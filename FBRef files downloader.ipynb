{
 "cells": [
  {
   "cell_type": "code",
   "execution_count": 67,
   "metadata": {},
   "outputs": [],
   "source": [
    "convert_into_p90 = 'Y' #Set it to N if you do not want to convert stats into p90\n",
    "path = 'D:\\\\Data Analysis TP\\\\2021_22\\\\FBREF Top 5' #Provide the path here where you want files to be downloaded "
   ]
  },
  {
   "cell_type": "code",
   "execution_count": 68,
   "metadata": {},
   "outputs": [],
   "source": [
    "#Thanks a lot to: \n",
    "#1. Statsbomb/FBref for publicly sharing stats \n",
    "#2. Shreyas Khatri (Twitter: @khatri_shreyas) whose piece of code I used  to download  files from FBRef.\n",
    "#OG link: https://github.com/shreyas7kha/FootballFbrefPlotting\n",
    "\n",
    "import os\n",
    "import numpy as np\n",
    "import pandas as pd\n",
    "import requests\n",
    "import seaborn as sns\n",
    "from bs4 import BeautifulSoup as soup\n",
    "\n",
    "from datetime import date\n",
    "  \n",
    "os.chdir(path)\n",
    "    \n",
    "# Returns the current local date\n",
    "today = date.today()\n",
    "\n",
    "path = os.getcwd() + '\\FBREF Files for ' + str(today)\n",
    "os.mkdir(path)\n",
    "\n",
    "# A function which can read data from a Fbref webpage\n",
    "def readfromhtml(filepath):\n",
    "    df = pd.read_html(filepath)[0]\n",
    "    \n",
    "    column_lst = list(df.columns)\n",
    "    unique_col_names = []\n",
    "    for col in column_lst:\n",
    "        if col[1] not in unique_col_names:\n",
    "            unique_col_names.append(col[1])\n",
    "        else:\n",
    "            unique_col_names.append(col[0]+' '+col[1])\n",
    "\n",
    "    df.columns = unique_col_names\n",
    "    df.drop(df[df['Player'] == 'Player'].index, inplace=True)\n",
    "    df = df.fillna('0')\n",
    "    df.set_index('Rk', drop=True, inplace=True)\n",
    "    try:\n",
    "        df['Comp'] = df['Comp'].apply(lambda x: ' '.join(x.split()[1:]))\n",
    "        df['Nation'] = df['Nation'].astype(str)\n",
    "        df['Nation'] = df['Nation'].apply(lambda x: x.split()[-1])\n",
    "    except:\n",
    "        print('Error in uploading file:' + filepath)\n",
    "    finally:\n",
    "        df = df.apply(pd.to_numeric, errors='ignore')\n",
    "        return df\n",
    "\n",
    "\n",
    "# If you want all data for the big 5 leagues, you just need to run this function with\n",
    "# the filepath where you want to save all the files\n",
    "# def save_all_csvs(base_url='https://fbref.com/en/comps/Big5/Big-5-European-Leagues-Stats',\n",
    "#                   filepath=os.getcwd()):\n",
    "def save_all_csvs(base_url='https://fbref.com/en/comps/Big5/Big-5-European-Leagues-Stats',\n",
    "                  filepath=path):\n",
    "\n",
    "    req = requests.get(base_url)\n",
    "    parse_soup = soup(req.content, 'lxml')\n",
    "    scripts = parse_soup.find_all('ul')\n",
    "    url_list = scripts[4]\n",
    "    urls = []\n",
    "    for url in url_list.find_all('a', href=True):\n",
    "        urls.append(url['href'])\n",
    "    urls = [base_url[:17] + url for url in urls]\n",
    "    for url in urls:\n",
    "        df = readfromhtml(url)\n",
    "        filename = url.split('/')[6]\n",
    "        try:\n",
    "            df.to_csv(filepath + '\\\\' + filename + '.csv', encoding='utf-8-sig')\n",
    "        except:\n",
    "            print('An error occurred in saving the file')\n",
    "        else:\n",
    "            print('File has been saved as {0} at {1} in format YYYY-MM-DD '.format(filename, filepath))"
   ]
  },
  {
   "cell_type": "code",
   "execution_count": 69,
   "metadata": {},
   "outputs": [
    {
     "name": "stdout",
     "output_type": "stream",
     "text": [
      "File has been saved as stats at D:\\Data Analysis TP\\2021_22\\FBREF Top 5\\FBREF Files for 2022-01-07 in format YYYY-MM-DD \n",
      "File has been saved as keepers at D:\\Data Analysis TP\\2021_22\\FBREF Top 5\\FBREF Files for 2022-01-07 in format YYYY-MM-DD \n",
      "File has been saved as keepersadv at D:\\Data Analysis TP\\2021_22\\FBREF Top 5\\FBREF Files for 2022-01-07 in format YYYY-MM-DD \n",
      "File has been saved as shooting at D:\\Data Analysis TP\\2021_22\\FBREF Top 5\\FBREF Files for 2022-01-07 in format YYYY-MM-DD \n",
      "File has been saved as passing at D:\\Data Analysis TP\\2021_22\\FBREF Top 5\\FBREF Files for 2022-01-07 in format YYYY-MM-DD \n",
      "File has been saved as passing_types at D:\\Data Analysis TP\\2021_22\\FBREF Top 5\\FBREF Files for 2022-01-07 in format YYYY-MM-DD \n",
      "File has been saved as gca at D:\\Data Analysis TP\\2021_22\\FBREF Top 5\\FBREF Files for 2022-01-07 in format YYYY-MM-DD \n",
      "File has been saved as defense at D:\\Data Analysis TP\\2021_22\\FBREF Top 5\\FBREF Files for 2022-01-07 in format YYYY-MM-DD \n",
      "File has been saved as possession at D:\\Data Analysis TP\\2021_22\\FBREF Top 5\\FBREF Files for 2022-01-07 in format YYYY-MM-DD \n",
      "File has been saved as playingtime at D:\\Data Analysis TP\\2021_22\\FBREF Top 5\\FBREF Files for 2022-01-07 in format YYYY-MM-DD \n",
      "File has been saved as misc at D:\\Data Analysis TP\\2021_22\\FBREF Top 5\\FBREF Files for 2022-01-07 in format YYYY-MM-DD \n"
     ]
    }
   ],
   "source": [
    "save_all_csvs()"
   ]
  },
  {
   "cell_type": "code",
   "execution_count": null,
   "metadata": {},
   "outputs": [],
   "source": []
  },
  {
   "cell_type": "code",
   "execution_count": 71,
   "metadata": {},
   "outputs": [
    {
     "name": "stdout",
     "output_type": "stream",
     "text": [
      "['defense.csv', 'gca.csv', 'keepers.csv', 'keepersadv.csv', 'misc.csv', 'passing.csv', 'passing_types.csv', 'playingtime.csv', 'possession.csv', 'shooting.csv', 'stats.csv']\n",
      "Processing file: defense.csv\n",
      "Processing file: gca.csv\n",
      "Processing file: keepers.csv\n",
      "Processing file: keepersadv.csv\n",
      "Processing file: misc.csv\n",
      "Processing file: passing.csv\n",
      "Processing file: passing_types.csv\n",
      "Processing file: playingtime.csv\n",
      "Processing file: possession.csv\n",
      "Processing file: shooting.csv\n",
      "Processing file: stats.csv\n"
     ]
    }
   ],
   "source": [
    "if convert_into_p90 == 'Y':\n",
    "    import glob\n",
    "\n",
    "    os.chdir(path)\n",
    "    extension = 'csv'\n",
    "    all_filenames = [i for i in glob.glob('*.{}'.format(extension))]\n",
    "\n",
    "    print(all_filenames)\n",
    "\n",
    "    for file in all_filenames:\n",
    "        print('Processing file:', file)\n",
    "        df = pd.read_csv(file)\n",
    "        cols = df.columns\n",
    "        newcols = cols[9:-1] #Remove all columns till '90s' and the last 'Matches' column\n",
    "\n",
    "        for col in newcols:\n",
    "            if ('p90' not in col) and ('%' not in col) and ('/90' not in col): \n",
    "                name = col+' p90'\n",
    "                df[name] = round(df[col]/df['90s'],2)\n",
    "        p90_path = path + '\\\\'+ file.split('.')[0] + ' p90.csv'\n",
    "        df.to_csv(p90_path)\n",
    "        \n",
    "    print('All stats are now converted to p90')"
   ]
  }
 ],
 "metadata": {
  "kernelspec": {
   "display_name": "Python 3",
   "language": "python",
   "name": "python3"
  },
  "language_info": {
   "codemirror_mode": {
    "name": "ipython",
    "version": 3
   },
   "file_extension": ".py",
   "mimetype": "text/x-python",
   "name": "python",
   "nbconvert_exporter": "python",
   "pygments_lexer": "ipython3",
   "version": "3.8.3"
  }
 },
 "nbformat": 4,
 "nbformat_minor": 4
}
